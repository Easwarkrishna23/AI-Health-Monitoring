# %% [markdown]
# # EEG Data Exploration
# Analysis of EEG Motor Movement/Imagery Dataset

# %%
import mne
import numpy as np
import matplotlib.pyplot as plt

# %% [markdown]
# ## 1. Load Sample EEG Data

# %%
raw = mne.io.read_raw_edf('data/raw/eegmmidb/S001/S001R01.edf', preload=True)
raw.filter(1, 40)  # Bandpass filter 1-40 Hz

# %%
print(f"Channels: {raw.ch_names}")
print(f"Sampling freq: {raw.info['sfreq']} Hz")
print(f"Signal duration: {raw.times[-1]} seconds")

# %% [markdown]
# ## 2. Visualize Raw EEG

# %%
raw.plot_psd(fmax=50)
plt.savefig('reports/figures/eeg_psd.png')
plt.show()

# %% [markdown]
# ## 3. Event-Related Potentials

# %%
events, event_dict = mne.events_from_annotations(raw)
epochs = mne.Epochs(raw, events, tmin=-0.2, tmax=0.5, baseline=(-0.2, 0))

# %%
conditions = list(event_dict.keys())
for condition in conditions[:3]:
    epochs[condition].average().plot()
    plt.title(f"ERP for {condition}")
    plt.savefig(f'reports/figures/erp_{condition}.png')
    plt.show()

# %% [markdown]
# ## 4. Topographic Maps

# %%
evoked = epochs['T1'].average()
evoked.plot_topomap(times=[0.1, 0.2, 0.3])
plt.savefig('reports/figures/topomap.png')
plt.show()